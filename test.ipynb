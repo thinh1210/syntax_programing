{
 "cells": [
  {
   "cell_type": "code",
   "execution_count": 1,
   "metadata": {},
   "outputs": [],
   "source": [
    "import numpy"
   ]
  },
  {
   "cell_type": "code",
   "execution_count": 2,
   "metadata": {},
   "outputs": [
    {
     "name": "stdout",
     "output_type": "stream",
     "text": [
      "Requirement already satisfied: pip in c:\\users\\asus\\appdata\\local\\packages\\pythonsoftwarefoundation.python.3.11_qbz5n2kfra8p0\\localcache\\local-packages\\python311\\site-packages (24.1)\n",
      "Note: you may need to restart the kernel to use updated packages.\n"
     ]
    }
   ],
   "source": [
    "pip install --upgrade pip"
   ]
  },
  {
   "cell_type": "code",
   "execution_count": 3,
   "metadata": {},
   "outputs": [
    {
     "name": "stdout",
     "output_type": "stream",
     "text": [
      "0\n",
      "1\n",
      "2\n",
      "3\n",
      "4\n",
      "5\n",
      "6\n",
      "7\n",
      "8\n",
      "9\n"
     ]
    }
   ],
   "source": [
    "for i in range(10):\n",
    "    print(i)"
   ]
  },
  {
   "cell_type": "markdown",
   "metadata": {},
   "source": [
    "for i in range(10) -> loop 10 ( i from 0->9)\n"
   ]
  },
  {
   "cell_type": "code",
   "execution_count": null,
   "metadata": {},
   "outputs": [],
   "source": []
  },
  {
   "cell_type": "code",
   "execution_count": 13,
   "metadata": {},
   "outputs": [
    {
     "name": "stdout",
     "output_type": "stream",
     "text": [
      "         *         \n",
      "        ***        \n",
      "       *****       \n",
      "      *******      \n",
      "     *********     \n",
      "      *******      \n",
      "       *****       \n",
      "        ***        \n",
      "         *         \n"
     ]
    }
   ],
   "source": [
    "count = int (input('input the quantity of lines :'))\n",
    "while(count%2==0):\n",
    "    count = int (input('input the quantity of lines again because your input is even'))\n",
    "text_width=count*2+1\n",
    "for i in range(1,count+1,2):\n",
    "    text='*'*i\n",
    "    print(text.center(text_width))\n",
    "for i in range(count-2,0,-2):\n",
    "    text='*'*i\n",
    "    print(text.center(text_width))"
   ]
  },
  {
   "cell_type": "code",
   "execution_count": 33,
   "metadata": {},
   "outputs": [
    {
     "name": "stdout",
     "output_type": "stream",
     "text": [
      "Right\n"
     ]
    }
   ],
   "source": [
    "import random\n",
    "multi1=random.randint(1,10)\n",
    "multi2=random.randint(1,10)\n",
    "num=int(input(\"{} x {} = \".format(str(multi1),str(multi2))))\n",
    "if num==(multi1*multi2):\n",
    "    print('Right')\n",
    "else:\n",
    "    print('Wrong')"
   ]
  },
  {
   "cell_type": "code",
   "execution_count": 43,
   "metadata": {},
   "outputs": [
    {
     "name": "stdout",
     "output_type": "stream",
     "text": [
      "Incorrect\n",
      "Incorrect\n",
      "Incorrect\n",
      "Incorrect\n",
      "Incorrect\n",
      "Cut:))\n",
      "Incorrect\n",
      "Correct\n"
     ]
    }
   ],
   "source": [
    "user_password= input('Enter your password: ')\n",
    "i=1\n",
    "while(True):\n",
    "    check_password= input('Enter your password again: ')\n",
    "    if user_password==check_password:\n",
    "        print('Correct')\n",
    "        break\n",
    "    else:\n",
    "        print('Incorrect')\n",
    "    if i==5 :\n",
    "        print('Cut:))')\n",
    "        break\n",
    "    i+=1\n"
   ]
  },
  {
   "cell_type": "markdown",
   "metadata": {},
   "source": [
    "Ex1:"
   ]
  },
  {
   "cell_type": "code",
   "execution_count": 38,
   "metadata": {},
   "outputs": [],
   "source": [
    "import re\n",
    "\n",
    "# Define the main string and the substring you want to count\n",
    "\n",
    "def count_substring(string: str, substring: str):\n",
    "    matches= re.findall(substring, string)\n",
    "    return len(matches)\n",
    "\n",
    "string= input('Please input a string')\n",
    "\n",
    "substring=string[1:2]\n",
    "print(substring)\n"
   ]
  },
  {
   "cell_type": "markdown",
   "metadata": {},
   "source": [
    "excise"
   ]
  },
  {
   "cell_type": "code",
   "execution_count": 57,
   "metadata": {},
   "outputs": [
    {
     "name": "stdout",
     "output_type": "stream",
     "text": [
      "['A', 'AN', 'ANA', 'ANAN', 'ANANA']\n",
      "['B', 'BA', 'BAN', 'BANA', 'BANAN', 'BANANA', 'N', 'NA', 'NAN', 'NANA']\n",
      "9\n",
      "12\n"
     ]
    }
   ],
   "source": [
    "\n",
    "def is_vowel(char: str) -> bool:\n",
    "    \"\"\"Kiểm tra xem một ký tự có phải là nguyên âm không\"\"\"\n",
    "    return char.lower() in 'aeiou'\n",
    "\n",
    "substring_consonants=[]\n",
    "substring_vowels=[]\n",
    "string=input()\n",
    "for i in range (len(string)):\n",
    "    if(is_vowel(string[i])):\n",
    "        for j in range(i, len(string)):\n",
    "            new_substring=string[i:j+1]\n",
    "            if new_substring in substring_vowels:\n",
    "                continue\n",
    "            substring_vowels.append(new_substring)\n",
    "    else:\n",
    "        for j in range(i, len(string)):\n",
    "            new_substring=string[i:j+1]\n",
    "            if new_substring in substring_consonants:\n",
    "                continue\n",
    "            substring_consonants.append(new_substring)\n",
    "            \n",
    "#print(substring_vowels)\n",
    "#print(substring_consonants)\n",
    "sum_vowels=0\n",
    "sum_consonants=0\n",
    "for ele in substring_vowels:\n",
    "    #print(len(re.findall(ele, string)))\n",
    "    sum_vowels+=len(re.findall(f\"(?={re.escape(ele)})\", string))\n",
    "for ele in substring_consonants:\n",
    "    #print(len(re.findall(ele, string)))\n",
    "    sum_consonants+= len(re.findall(f\"(?={re.escape(ele)})\",string))\n",
    "print(sum_vowels)\n",
    "print(sum_consonants)"
   ]
  },
  {
   "cell_type": "code",
   "execution_count": 56,
   "metadata": {},
   "outputs": [
    {
     "name": "stdout",
     "output_type": "stream",
     "text": [
      "Số lần xuất hiện của 'ANA' trong 'BANANA' là 2\n"
     ]
    }
   ],
   "source": [
    "import re\n",
    "\n",
    "string = \"BANANA\"\n",
    "substring = \"ANA\"\n",
    "\n",
    "# Sử dụng lookahead assertion để đếm các trường hợp chồng chéo\n",
    "count = len(re.findall(f\"(?={re.escape(substring)})\", string))\n",
    "\n",
    "print(f\"Số lần xuất hiện của '{substring}' trong '{string}' là {count}\")\n"
   ]
  },
  {
   "cell_type": "markdown",
   "metadata": {},
   "source": [
    "exercise 2"
   ]
  },
  {
   "cell_type": "code",
   "execution_count": 83,
   "metadata": {},
   "outputs": [
    {
     "name": "stdout",
     "output_type": "stream",
     "text": [
      "b\n",
      "---c----\n",
      "-c-b--\n",
      "c-b-a-\n"
     ]
    }
   ],
   "source": [
    "char1=chr(ord('a')+1)\n",
    "print(char1)\n",
    "#2n-1 character  2n-2 space\n",
    "# 4n-3 - (4i-1) space\n",
    "def line(count: int, number: int):\n",
    "    text_res=(2*number-1-2*count)*'-'\n",
    "    for i in range(1,count+1,1):\n",
    "        text_res+= chr(ord('a')+number-i)+'-'\n",
    "    for i in range(count-1,0,1):\n",
    "        text_res+= ch(ord('a')+number-i)+'-'\n",
    "    text_res+=(2*number-1-2*count)*'-'\n",
    "    if(len(text_res)>(4*number-3)):\n",
    "        text_res=text_res[0:4*number-3]\n",
    "    return text_res\n",
    "\n",
    "num=int(input())\n",
    "for i in range(1,num+1):\n",
    "    print(line(i, num))"
   ]
  }
 ],
 "metadata": {
  "kernelspec": {
   "display_name": "Python 3",
   "language": "python",
   "name": "python3"
  },
  "language_info": {
   "codemirror_mode": {
    "name": "ipython",
    "version": 3
   },
   "file_extension": ".py",
   "mimetype": "text/x-python",
   "name": "python",
   "nbconvert_exporter": "python",
   "pygments_lexer": "ipython3",
   "version": "3.11.9"
  }
 },
 "nbformat": 4,
 "nbformat_minor": 2
}
